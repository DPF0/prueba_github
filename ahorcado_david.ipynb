{
 "cells": [
  {
   "cell_type": "markdown",
   "metadata": {},
   "source": [
    "## Juego del Ahorcado\n",
    "El funcionamiento es que vaya mostrando por pantalla ```_ _ _ _ _``` las rayas bajas correspondientes al número de letras que tiene la palabra a adivinar. El usuario deberá insertar una letra y, si esa letra existe, se mostrará o mostrarán las letras acertadas ```S _ S _ _```. \n",
    "\n",
    "Si falla, se mostrará el número de errores que lleva y, si lleva 6 errores, entonces se mostrará \"Fin del juego\".\n",
    "Encapsúlalo en una función."
   ]
  },
  {
   "cell_type": "code",
   "execution_count": 63,
   "metadata": {},
   "outputs": [],
   "source": [
    "import time"
   ]
  },
  {
   "cell_type": "code",
   "execution_count": 64,
   "metadata": {},
   "outputs": [],
   "source": [
    "def ahorcado(palabra):\n",
    "    \n",
    "    # palabra = input('Introduzca palabra secreta')\n",
    "    palabra = palabra.lower()\n",
    "\n",
    "    # Imprime rayas iniciales\n",
    "    # print ('_ ' * len(palabra))\n",
    "\n",
    "    # Contador errores\n",
    "    errores = 0\n",
    "\n",
    "    # Pasar palabra a lista de letras\n",
    "    def split_palabra(word):\n",
    "        letras = []\n",
    "        for letra in word:\n",
    "            letras.append(letra)\n",
    "        return(letras)\n",
    "\n",
    "    # Palabra secreta a lista\n",
    "    secreto_split = split_palabra(palabra)\n",
    "\n",
    "    # Crea lista con rayas\n",
    "    rayas_y_letras = list('_' * len(secreto_split))\n",
    "\n",
    "    while errores <= 6:\n",
    "        print(f'Le quedan {6 - errores} intentos')\n",
    "        print(' '.join(rayas_y_letras))\n",
    "        errores += 1\n",
    "        time.sleep(1)\n",
    "        # Entrada de usuario\n",
    "        usuario = input('Introduzca su palabra')\n",
    "        usuario = usuario.lower()\n",
    "        \n",
    "        # Usuario a lista\n",
    "        usuario_split = split_palabra(usuario)\n",
    "\n",
    "        if usuario_split == secreto_split:\n",
    "            print('Ha ganado')\n",
    "            break\n",
    "        else:\n",
    "            for j in usuario_split:\n",
    "                for i in range(len(secreto_split)):\n",
    "                    if rayas_y_letras[i] != '_':\n",
    "                        continue\n",
    "                    elif j == secreto_split[i]:\n",
    "                        rayas_y_letras[i] = (secreto_split[i])\n",
    "    else:\n",
    "        print('Ha perdido. La palabra era: ', palabra)"
   ]
  },
  {
   "cell_type": "code",
   "execution_count": 66,
   "metadata": {},
   "outputs": [
    {
     "name": "stdout",
     "output_type": "stream",
     "text": [
      "Le quedan 6 intentos\n",
      "_ _ _ _\n",
      "Le quedan 5 intentos\n",
      "_ e _ _\n",
      "Le quedan 4 intentos\n",
      "_ e _ o\n",
      "Le quedan 3 intentos\n",
      "_ e l o\n",
      "Le quedan 2 intentos\n",
      "_ e l o\n",
      "Le quedan 1 intentos\n",
      "_ e l o\n",
      "Le quedan 0 intentos\n",
      "_ e l o\n",
      "Ha perdido. La palabra era:  pelo\n"
     ]
    }
   ],
   "source": [
    "ahorcado('pelo')"
   ]
  }
 ],
 "metadata": {
  "kernelspec": {
   "display_name": "Python 3",
   "language": "python",
   "name": "python3"
  },
  "language_info": {
   "codemirror_mode": {
    "name": "ipython",
    "version": 3
   },
   "file_extension": ".py",
   "mimetype": "text/x-python",
   "name": "python",
   "nbconvert_exporter": "python",
   "pygments_lexer": "ipython3",
   "version": "3.11.4"
  },
  "orig_nbformat": 4,
  "vscode": {
   "interpreter": {
    "hash": "1e989a6a87260c027f3014f78a3a3d191394072689c96a40223c8499353d25ee"
   }
  }
 },
 "nbformat": 4,
 "nbformat_minor": 2
}
